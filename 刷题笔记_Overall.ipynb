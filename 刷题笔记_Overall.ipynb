{
  "nbformat": 4,
  "nbformat_minor": 0,
  "metadata": {
    "colab": {
      "name": "刷题笔记 - Overall.ipynb",
      "version": "0.3.2",
      "provenance": [],
      "collapsed_sections": [],
      "include_colab_link": true
    },
    "kernelspec": {
      "name": "python3",
      "display_name": "Python 3"
    }
  },
  "cells": [
    {
      "cell_type": "markdown",
      "metadata": {
        "id": "view-in-github",
        "colab_type": "text"
      },
      "source": [
        "<a href=\"https://colab.research.google.com/github/NanWang33/Coding/blob/master/%E5%88%B7%E9%A2%98%E7%AC%94%E8%AE%B0_Overall.ipynb\" target=\"_parent\"><img src=\"https://colab.research.google.com/assets/colab-badge.svg\" alt=\"Open In Colab\"/></a>"
      ]
    },
    {
      "cell_type": "markdown",
      "metadata": {
        "id": "4FuCBuyuWBrT",
        "colab_type": "text"
      },
      "source": [
        "> 今天是2019年7月11日。\n",
        "\n",
        "> 每一次想要刷题时自觉都有各种各样的理由和借口半途而废，这次决定认真起来，并且把刷题的过程记录下来。\n",
        "\n",
        "> 目前的思路是按照花花酱整理的题目分类列表，结合他的算法/数据结构特辑SP视频，按类别进行刷题。\n",
        "\n",
        "> 具体方法： 对于每个popular topic，先看视频讲解，复习数据结构API，从easy->hard刷题并做好笔记。\n",
        "\n",
        "> 希望自己能坚持下去，整理好笔记可以以后需要时再回顾，说不定做的特别好了分享出去还能赚钱哈哈哈哈~\n",
        "\n",
        "> 那么我们开始！\n",
        "\n",
        "\n",
        "\n",
        "\n",
        "---\n",
        "\n"
      ]
    },
    {
      "cell_type": "markdown",
      "metadata": {
        "id": "AQ71s3eBVpBO",
        "colab_type": "text"
      },
      "source": [
        "# Where to start?\n"
      ]
    },
    {
      "cell_type": "markdown",
      "metadata": {
        "id": "ZEDrOeuyVy5j",
        "colab_type": "text"
      },
      "source": [
        "\n",
        "*   花花酱 ：如何刷题 [1/2](https://www.youtube.com/watch?v=NdWYxz3izH4&list=PLLuMmzMTgVK5Hy1qcWYZcd7wVQQ1v0AjX&index=3) [2/2](https://www.youtube.com/watch?v=NxGWDh-0jAg&list=PLLuMmzMTgVK5Hy1qcWYZcd7wVQQ1v0AjX&index=2)\n",
        "*   花花酱： [题目分类列表](https://docs.google.com/spreadsheets/d/1SbpY-04Cz8EWw3A_LBUmDEXKUMO31DBjfeMoA0dlfIA/edit#gid=917471298)\n",
        "\n",
        "\n",
        "*   播放列表：\n",
        "> * 动态规划 (Dynamic programming) https://www.youtube.com/watch?v=MSNSq...\n",
        "> * 递归 (Recursion) https://www.youtube.com/watch?v=C75nV...\n",
        "> * 设计/数据结构 (Design/Data Structure) https://www.youtube.com/watch?v=JL4Oj...\n",
        "> * 树 (Binary Tree) https://www.youtube.com/watch?v=L_t2x...\n",
        "> * 搜索 (Search) https://www.youtube.com/watch?v=oUeGF...\n",
        "> * 图 (graph) https://www.youtube.com/watch?v=Qqgck...\n",
        "> * 哈希表 (HashTable) https://www.youtube.com/watch?v=tNtk_...\n",
        "> * 贪心 (Greedy) https://www.youtube.com/watch?v=3kJpg...\n",
        "> * 链表 (Linked List) https://www.youtube.com/watch?v=bxCb3...\n",
        "> * 数学题 (Math) https://www.youtube.com/watch?v=ddFvT...\n",
        "> * 几何 (Geometry) https://www.youtube.com/watch?v=8Kd-T...\n",
        "> * 字符串 (String) https://www.youtube.com/watch?v=fZ8nk...\n",
        "> * 模拟 (Simulation) https://www.youtube.com/watch?v=Vp5qR...\n",
        "> * 分治 (Divide and Conquer) https://www.youtube.com/watch?v=LPIvL...\n",
        "> * 二分搜索(Binary Search) https://www.youtube.com/watch?v=nxJXn...\n",
        "> * Bit (位运算) https://www.youtube.com/watch?v=fH9cl...\n",
        "> * 所有题目 (All) https://www.youtube.com/watch?v=A6iCX...\n",
        "\n",
        "\n",
        "\n",
        "* By Difficulty：\n",
        "  > * Easy: https://www.youtube.com/watch?v=rRMdx...\n",
        "  * Medium: https://www.youtube.com/watch?v=seQnf...\n",
        "  * Hard: https://www.youtube.com/watch?v=UjiFF...\n",
        "\n",
        "* 题目列表 (All)：http://t.cn/RTcVHnY\n",
        "\n",
        "\n",
        "\n",
        "\n",
        "\n",
        "\n",
        "\n"
      ]
    },
    {
      "cell_type": "markdown",
      "metadata": {
        "id": "e9r6tf7CZTQK",
        "colab_type": "text"
      },
      "source": [
        "# Besides Leetcode"
      ]
    },
    {
      "cell_type": "markdown",
      "metadata": {
        "id": "-cJbr86wZsy7",
        "colab_type": "text"
      },
      "source": [
        "除了leedcode题目外，应该也找时间看看以下几本书：\n",
        "\n",
        "\n",
        "*   Cracking the Coding Interview\n",
        "*   Desgin Pattern\n",
        "*   操作系统的书\n",
        "*   System desgin 的书\n",
        "\n",
        "TODO: 复习GIT\n",
        "\n"
      ]
    }
  ]
}